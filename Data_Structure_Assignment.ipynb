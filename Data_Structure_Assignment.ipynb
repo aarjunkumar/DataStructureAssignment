{
  "nbformat": 4,
  "nbformat_minor": 0,
  "metadata": {
    "colab": {
      "provenance": []
    },
    "kernelspec": {
      "name": "python3",
      "display_name": "Python 3"
    },
    "language_info": {
      "name": "python"
    }
  },
  "cells": [
    {
      "cell_type": "markdown",
      "source": [
        "Q1.Discuss string slicing and provide examples.\n",
        "\n",
        "Sol. String slicing in Python is a method to extract a specific portion of a string using the syntax :-\n",
        "\n",
        "string[start:stop:step]\n",
        "\n",
        "The start index is where the slice begins (inclusive), the stop index is where it ends (exclusive), and step is the interval between characters (optional). This allows efficient string manipulation. It has many use case such as finding a substring or reversing a string etc.\n",
        "\n",
        "For example, with the string my_string = \"Hello, World!\", if you use my_string[7:12], it will return \"World\".\n",
        "\n",
        "If you omit start, it starts from the beginning of the string. If you omit end, it goes to the end of the string.\n",
        "\n",
        "Negative indices are also valid. string[-1] refers to the last character, string[-2] refers to the second last, and so on."
      ],
      "metadata": {
        "id": "Fx5oiimDisLo"
      }
    },
    {
      "cell_type": "code",
      "execution_count": null,
      "metadata": {
        "id": "inBT9HmKg-ey",
        "colab": {
          "base_uri": "https://localhost:8080/"
        },
        "outputId": "8ceacca4-d22f-429e-8e1a-4d3f877dac1b"
      },
      "outputs": [
        {
          "output_type": "stream",
          "name": "stdout",
          "text": [
            "World\n",
            "Hello\n",
            "World!\n",
            "HloWrd\n",
            "!dlroW olleH\n",
            "llo World\n"
          ]
        }
      ],
      "source": [
        "#Slicing Methods\n",
        "\n",
        "s=\"Hello World!\"\n",
        "\n",
        "print(s[6:11]) # It will return thr string from position (start) to (end-1)\n",
        "\n",
        "print(s[:5])  # if we do not pass the starting index it will take (0) as its default value\n",
        "\n",
        "print(s[6:]) # if we do not pass the end index it will take length of string as its default value\n",
        "\n",
        "print(s[::2]) # if if pass any positive integer in (step) it will return a string by skipping the number of characters same as the steps\n",
        "\n",
        "print(s[::-1]) # negative integer in (step) will return a string in reversed order and skipping the number of characters present in the step\n",
        "\n",
        "print(s[-10:-1]) # we can also use negative indexing in slicing"
      ]
    },
    {
      "cell_type": "markdown",
      "source": [
        "\n",
        "\n",
        "\n",
        "\n",
        "---\n",
        "\n",
        "\n",
        "\n",
        "---\n",
        "\n"
      ],
      "metadata": {
        "id": "aqOs5r1nc4vx"
      }
    },
    {
      "cell_type": "markdown",
      "source": [
        "Q2.  Explain the key features of lists in Python\n",
        "\n",
        "Sol. Some of the key feature of Lists are:-\n",
        "\n",
        "\n",
        "*   Hetrogenous Collection of Data:-\n",
        "\n",
        "        Lists can store elements of different data types, such as integers, strings, and other objects.\n",
        "\n",
        "*   Dynamic Size:-\n",
        "\n",
        "        Lists in python are dynamically sized as items can be added or removed\n",
        "\n",
        "\n",
        "*   Mutable:-\n",
        "\n",
        "        Lists are mutable as they can be modified after creation.\n",
        "\n",
        "*   Ordered:-\n",
        "\n",
        "        Lists are ordered data structure as first element has an index of 0, the second 1, and so on.\n",
        "\n",
        "\n",
        "\n",
        "*   Indexing and Slicing:-\n",
        "\n",
        "        You can access individual elements or subsets of a list using indexing and slicing.\n",
        "\n",
        "*   Iterable:-\n",
        "\n",
        "        Lists can be easily iterated over using loops.\n",
        "\n",
        "\n",
        "\n",
        "*   Built-in Functions:-\n",
        "        It has many built-in methods such as append, sort, reverse, pop, remove, max, min and sum etc. which can be used to easily modify the elements of the list\n",
        "\n",
        "*   Nested List:-\n",
        "\n",
        "        We can declare list or tuple or set or dictionary inside a list\n",
        "\n",
        "        \n",
        "\n",
        "\n",
        "\n",
        "\n",
        "\n",
        "\n",
        "\n",
        "\n"
      ],
      "metadata": {
        "id": "P1-LrGU0XWBe"
      }
    },
    {
      "cell_type": "markdown",
      "source": [
        "\n",
        "\n",
        "\n",
        "\n",
        "---\n",
        "\n",
        "\n",
        "\n",
        "---\n",
        "\n"
      ],
      "metadata": {
        "id": "u1i_3igmc28M"
      }
    },
    {
      "cell_type": "markdown",
      "source": [
        "Q3. Describe how to access, modify, and delete elements in a list with examples\n",
        "\n",
        "Sol. Access:- To access lists in python we can use indexing and slicing methods.\n",
        "     \n",
        "\n",
        "\n",
        "1.   Indexing:-\n",
        "        *  We access elements with the help of their index\n",
        "        *  In indexing both positive and negative index can be used"
      ],
      "metadata": {
        "id": "dTPZeRp8c_WV"
      }
    },
    {
      "cell_type": "code",
      "source": [
        "l=[10,20,30,40,50,60]\n",
        "\n",
        "print(l[2]) # Acsessing an element with positive index\n",
        "print(l[-2]) # Accessing an element with the help of negative index"
      ],
      "metadata": {
        "colab": {
          "base_uri": "https://localhost:8080/"
        },
        "id": "7m0XIDhnVKSJ",
        "outputId": "9db24e22-4ba4-4aa3-931a-1941070ed9b2"
      },
      "execution_count": null,
      "outputs": [
        {
          "output_type": "stream",
          "name": "stdout",
          "text": [
            "30\n",
            "50\n"
          ]
        }
      ]
    },
    {
      "cell_type": "markdown",
      "source": [
        "2.   Slicing:-\n",
        "        *   You can access a subset of a list using slicing. The syntax for slicing is list[start:end], where the start index is inclusive and the end index is exclusive.\n",
        "\n"
      ],
      "metadata": {
        "id": "e4dQGoGMfkD9"
      }
    },
    {
      "cell_type": "code",
      "source": [
        "l=[10,20,30,40,50,60]\n",
        "\n",
        "print(l[2:5]) # Print elements from index 2 to 4\n",
        "\n",
        "print(l[:4]) # Print elements from index 0 to 3\n",
        "print(l[1:]) # Prints elements from index 1 to last\n",
        "\n",
        "print(l[::2]) # Rrints every second element"
      ],
      "metadata": {
        "colab": {
          "base_uri": "https://localhost:8080/"
        },
        "id": "BmVxdbqNfFwU",
        "outputId": "94e89f9e-b744-4d4e-d047-fef1f55496aa"
      },
      "execution_count": null,
      "outputs": [
        {
          "output_type": "stream",
          "name": "stdout",
          "text": [
            "[30, 40, 50]\n",
            "[10, 20, 30, 40]\n",
            "[20, 30, 40, 50, 60]\n",
            "[10, 30, 50]\n"
          ]
        }
      ]
    },
    {
      "cell_type": "markdown",
      "source": [
        "\n",
        "\n",
        "---\n",
        "\n",
        "\n",
        "\n",
        "---\n",
        "\n"
      ],
      "metadata": {
        "id": "yTev6it00-Hl"
      }
    },
    {
      "cell_type": "markdown",
      "source": [
        "Q4. Compare and contrast tuples and lists with examples\n",
        "\n",
        "Sol. Diffrences between Tuples and Sets are-\n",
        "\n",
        "1. Lists are mutable whereas tuples are immutable.\n",
        "\n",
        "2. The implication of iterations in lists is Time-consuming as compared to tuples\n",
        "\n",
        "3. Lists has more number of methods as compared to sets\n",
        "\n",
        "4. Lists are used where modification of data is needed whereas tuples are used only for iteration.\n",
        "\n",
        "5. Unexpected changes and errors are more likely to occur in lists. whereas tuples don’t change they are far less error-prone.\n",
        "\n",
        "6. Tuples are more secured set of data structures as compared to lists because tuple elements can not be modified after creation.\n",
        "\n",
        "7. Lists consumes more memory than tuples.\n",
        "\n",
        "8. Lists are declared by square brackets [] , whereas tuples are declared by parantheses ()\n",
        "\n",
        "\n",
        "Syntax of List:-\n",
        "\n",
        "l=[1,2,3,4,5]\n",
        "\n",
        "Syntax of Tuple:-\n",
        "\n",
        "t=(1,2,3,4,5)"
      ],
      "metadata": {
        "id": "Ksag4gJjhwUK"
      }
    },
    {
      "cell_type": "markdown",
      "source": [
        "\n",
        "\n",
        "---\n",
        "\n",
        "\n",
        "\n",
        "---\n",
        "\n"
      ],
      "metadata": {
        "id": "zye-XCadd3K3"
      }
    },
    {
      "cell_type": "markdown",
      "source": [
        "Q5.  Describe the key features of sets and provide examples of their use\n",
        "\n",
        "Sol. Key features of sets are:-\n",
        "\n",
        "\n",
        "*   Sets in python are mutable, as we can add or remove an element from a set but the element itself is immutable.\n",
        "*   In sets all the elements are unique\n",
        "\n",
        "\n",
        "*   Sets are unordered and unidexed, sets in python cannot be accessed from indexing because sets are unordered\n",
        "\n",
        "*   Efficient Membership Testing, Checking if an element exists in a set is faster than in a list due to the way sets are implemented using hash tables.\n",
        "\n",
        "*   Sets supports common mathematcal operations such as:-\n",
        "      \n",
        "      1.   Union (|): Combines two sets, keeping only unique elements.\n",
        "      2.   Intersection (&): Returns elements common to both sets.\n",
        "      3.   Difference (-): Returns elements in one set but not in another.\n",
        "      4.   Symmetric Difference (^): Returns elements in either set, but not both.\n",
        "\n",
        "\n",
        "\n",
        "\n",
        "\n",
        "\n",
        "\n",
        "\n",
        "\n"
      ],
      "metadata": {
        "id": "3_uoFiSWkE1W"
      }
    },
    {
      "cell_type": "code",
      "source": [
        "s1={10,20,30,40}\n",
        "s2={30,40,50,60}\n",
        "\n",
        "# Union\n",
        "print(s1 | s2)  # output - {10,20,30,40,50,60}\n",
        "\n",
        "# Intersection\n",
        "print(s1 & s2)  # output - {30,40}\n",
        "\n",
        "# Diffrence\n",
        "print(s1 - s2)  # output - {10,20}\n",
        "\n",
        "# Symmetric Diffrence\n",
        "print(s1 ^ s2)  # output - {10,20,50,60}"
      ],
      "metadata": {
        "colab": {
          "base_uri": "https://localhost:8080/"
        },
        "id": "HsOFd3KWpGFx",
        "outputId": "f72b5dcf-46fb-4659-8615-246b9d6cc68f"
      },
      "execution_count": null,
      "outputs": [
        {
          "output_type": "stream",
          "name": "stdout",
          "text": [
            "{40, 10, 50, 20, 60, 30}\n",
            "{40, 30}\n",
            "{10, 20}\n",
            "{10, 50, 20, 60}\n"
          ]
        }
      ]
    },
    {
      "cell_type": "markdown",
      "source": [
        "\n",
        "Some of the use case of sets are:-\n",
        "\n",
        "*   Removing duplicate from the list\n",
        "\n",
        "\n",
        "*   Mathematical set operations can be performed on sets\n",
        "*   Sets are useful when you want to find unique elements in large data collections, such as removing duplicate entries.\n",
        "\n",
        "\n",
        "*   Used in finding common elements\n",
        "*   Membership testing, Checking if an element exists in a set is more efficient than in lists or tuples, especially for large collections.\n",
        "\n",
        "\n",
        "\n",
        "\n"
      ],
      "metadata": {
        "id": "7QFyah9zqZEf"
      }
    },
    {
      "cell_type": "code",
      "source": [
        "# Removing duplicates from list\n",
        "l=[10,20,20,30,30,40]\n",
        "s=set(l)\n",
        "print(s)\n",
        "\n",
        "# set operations\n",
        "s1 = {1,2,3}\n",
        "s2 = {3,4,5}\n",
        "print(s1 | s2)\n",
        "\n",
        "# Finding common elments\n",
        "s1 = {1,2,3}\n",
        "s2 = {3,4,5}\n",
        "print(s1 & s2)\n",
        "\n",
        "# Membership Testing\n",
        "s = {10, 20, 30, 40}\n",
        "print(30 in s)\n",
        "print(50 in s)"
      ],
      "metadata": {
        "colab": {
          "base_uri": "https://localhost:8080/"
        },
        "id": "-cyRT0UTrfMG",
        "outputId": "67902a2c-ab74-4a30-cc25-c9c6af334f95"
      },
      "execution_count": null,
      "outputs": [
        {
          "output_type": "stream",
          "name": "stdout",
          "text": [
            "{40, 10, 20, 30}\n",
            "{1, 2, 3, 4, 5}\n",
            "{3}\n",
            "True\n",
            "False\n"
          ]
        }
      ]
    },
    {
      "cell_type": "markdown",
      "source": [
        "\n",
        "\n",
        "---\n",
        "\n",
        "\n",
        "\n",
        "---\n",
        "\n"
      ],
      "metadata": {
        "id": "iVZ4QCFyqY4Z"
      }
    },
    {
      "cell_type": "markdown",
      "source": [
        "Q6.Discuss the use cases of tuples and sets in Python programming\n",
        "\n",
        "Sol. Use cases of Tuples:-\n",
        "\n",
        "\n",
        "*   Fixed data set:-Tuples are ideal for representing collections of data that should not change throughout the program, like constants, settings, or fixed coordinates.\n",
        "\n",
        "*   Hetrogenous Data:-Tuples can store different types of data together\n",
        "\n",
        "*   Dictionary Keys:-Tuples can be used as keys in dictionaries\n",
        "\n",
        "*   Multiple return values:-Tuples are often used to return multiple values from a function.\n",
        "\n",
        "*   Data Intergrity:-This is useful when passing data around functions to prevent unintended modifications.\n",
        "\n",
        "\n",
        "Use cases of Sets:-\n",
        "\n",
        "\n",
        "\n",
        "*   Removing duplicate from the list\n",
        "\n",
        "\n",
        "*   Mathematical set operations can be performed on sets\n",
        "\n",
        "\n",
        "*   Sets are useful when you want to find unique elements in large data collections, such as removing duplicate entries.\n",
        "\n",
        "*   Used in finding common elements\n",
        "\n",
        "\n",
        "*   Membership testing, Checking if an element exists in a set is more efficient than in lists or tuples, especially for large collections.\n",
        "\n",
        "\n",
        "\n",
        "\n",
        "\n",
        "\n"
      ],
      "metadata": {
        "id": "FUKcJj3OkITA"
      }
    },
    {
      "cell_type": "markdown",
      "source": [
        "\n",
        "\n",
        "---\n",
        "\n",
        "\n",
        "\n",
        "---\n",
        "\n"
      ],
      "metadata": {
        "id": "HBCz5xsa3-HF"
      }
    },
    {
      "cell_type": "markdown",
      "source": [
        "Q7. Describe how to add, modify, and delete items in a dictionary with examples\n",
        "\n",
        "Sol.  1.Adding items to dictionary:-\n",
        "\n",
        "   \n",
        "\n",
        "*   Addition of items in dictionary can be done by adding new key value pairs to the dictionary this is done by assining value to the new key. If the key alerady exists then its value is modified.\n"
      ],
      "metadata": {
        "id": "vOkOBtwOkQnM"
      }
    },
    {
      "cell_type": "code",
      "source": [
        "dict={'name': 'Arjun', 'age': 25}\n",
        "\n",
        "# Addition of new key\n",
        "dict['city']='Lucknow'\n",
        "print(dict)"
      ],
      "metadata": {
        "colab": {
          "base_uri": "https://localhost:8080/"
        },
        "id": "XM5Yyy9lt-YW",
        "outputId": "2c4a9e7f-48f3-44e5-e6d6-f3546f0d84f6"
      },
      "execution_count": null,
      "outputs": [
        {
          "output_type": "stream",
          "name": "stdout",
          "text": [
            "{'name': 'Arjun', 'age': 25, 'city': 'Lucknow'}\n"
          ]
        }
      ]
    },
    {
      "cell_type": "markdown",
      "source": [
        "2. Modification of items in dictionary:-\n",
        "    *   Using update method\n",
        "    *   By assigning new value to the key\n",
        "\n",
        "\n"
      ],
      "metadata": {
        "id": "6Cn1QiSiuaDe"
      }
    },
    {
      "cell_type": "code",
      "source": [
        "d={'name': 'Arjun', 'age': 25, 'city': 'Lucknow'}\n",
        "\n",
        "# update Method\n",
        "d.update({'age':20})\n",
        "\n",
        "# assigning new value to key\n",
        "d['city']='Delhi'\n",
        "\n",
        "print(d)"
      ],
      "metadata": {
        "colab": {
          "base_uri": "https://localhost:8080/"
        },
        "id": "CUXT6PEHvA8S",
        "outputId": "fc8b1045-5cb3-4601-f794-95ba33f8dd3b"
      },
      "execution_count": null,
      "outputs": [
        {
          "output_type": "stream",
          "name": "stdout",
          "text": [
            "{'name': 'Arjun', 'age': 20, 'city': 'Delhi'}\n"
          ]
        }
      ]
    },
    {
      "cell_type": "markdown",
      "source": [
        "3. Deletion of items from dictionary\n",
        "    * Using pop() method:- The pop() method removes an item by key and returns its value. If the key doesn’t exist, it raises a KeyError.\n",
        "    * Using popitem() method:- The popitem() method removes and returns the last inserted key-value pair. It raises a KeyError if the dictionary is empty.\n",
        "    * Using del method\n",
        "\n",
        "\n"
      ],
      "metadata": {
        "id": "tln-jSGvvmGQ"
      }
    },
    {
      "cell_type": "code",
      "source": [
        "d={'name': 'Arjun', 'age': 25, 'city': 'Lucknow','state': 'UP'}\n",
        "\n",
        "# pop() method\n",
        "d.pop('age')\n",
        "\n",
        "# del method\n",
        "del d['state']\n",
        "\n",
        "# popitem() method\n",
        "d.popitem()\n",
        "\n",
        "print(d)"
      ],
      "metadata": {
        "colab": {
          "base_uri": "https://localhost:8080/"
        },
        "id": "w7zo96NpwqQ6",
        "outputId": "12567d63-5aa2-4a22-89cb-e6654f9722cb"
      },
      "execution_count": null,
      "outputs": [
        {
          "output_type": "stream",
          "name": "stdout",
          "text": [
            "{'name': 'Arjun'}\n"
          ]
        }
      ]
    },
    {
      "cell_type": "markdown",
      "source": [
        "\n",
        "\n",
        "---\n",
        "\n",
        "\n",
        "\n",
        "---\n",
        "\n"
      ],
      "metadata": {
        "id": "lLfNVqSk4GqT"
      }
    },
    {
      "cell_type": "markdown",
      "source": [
        "Q8. Discuss the importance of dictionary keys being immutable and provide examples\n",
        "\n",
        "Sol. Importance of Immutable Dictionary Keys:\n",
        "\n",
        "1. Consistency in Lookup: When a dictionary key is hashed, Python stores the hash value. If the key were mutable and its contents changed, the hash would no longer match the stored value, causing lookup errors or incorrect results.\n",
        "\n",
        "2. Performance: Using immutable keys ensures that the dictionary can maintain its performance characteristics (O(1) average time complexity for lookups). If keys were mutable, rehashing would be required each time a key changes, leading to inefficiencies.\n",
        "\n",
        "3. Reliability: Immutable keys ensure that dictionaries behave predictably. If mutable objects were allowed as keys and their contents changed, it would become difficult to trace issues, as keys could become unfindable in the dictionary.\n",
        "\n",
        "Since mutable objects like lists and dictionaries can be altered, if they were allowed as keys, changing their contents would break the hash consistency.\n",
        "\n",
        "In contrast, immutable objects, like tuples, cannot be modified after creation, ensuring that their hash value remains constant, making them safe and reliable as dictionary keys."
      ],
      "metadata": {
        "id": "n16_GnAmkSWa"
      }
    },
    {
      "cell_type": "code",
      "source": [
        "# Example of Immutable Keys:\n",
        "\n",
        "d={'name' : 'Arjun' , 1 : 5 , (1,3,4): [3,4,5]}\n",
        "\n",
        "print(d)"
      ],
      "metadata": {
        "colab": {
          "base_uri": "https://localhost:8080/"
        },
        "id": "s0IjucpaeyDt",
        "outputId": "db7633dd-8a29-49a9-d9c1-d973af148a38"
      },
      "execution_count": 1,
      "outputs": [
        {
          "output_type": "stream",
          "name": "stdout",
          "text": [
            "{'name': 'Arjun', 1: 5, (1, 3, 4): [3, 4, 5]}\n"
          ]
        }
      ]
    }
  ]
}